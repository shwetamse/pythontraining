{
  "nbformat": 4,
  "nbformat_minor": 0,
  "metadata": {
    "colab": {
      "provenance": [],
      "include_colab_link": true
    },
    "kernelspec": {
      "name": "python3",
      "display_name": "Python 3"
    },
    "language_info": {
      "name": "python"
    }
  },
  "cells": [
    {
      "cell_type": "markdown",
      "metadata": {
        "id": "view-in-github",
        "colab_type": "text"
      },
      "source": [
        "<a href=\"https://colab.research.google.com/github/shwetamse/pythontraining/blob/main/Python_functions_day1.ipynb\" target=\"_parent\"><img src=\"https://colab.research.google.com/assets/colab-badge.svg\" alt=\"Open In Colab\"/></a>"
      ]
    },
    {
      "cell_type": "code",
      "source": [
        "print(\"Hellow world\")"
      ],
      "metadata": {
        "colab": {
          "base_uri": "https://localhost:8080/"
        },
        "id": "SFykIswIXIhH",
        "outputId": "c5b94370-665f-42cd-db1e-44fcfb54af7f"
      },
      "execution_count": 1,
      "outputs": [
        {
          "output_type": "stream",
          "name": "stdout",
          "text": [
            "Hellow world\n"
          ]
        }
      ]
    },
    {
      "cell_type": "code",
      "source": [
        "print('Shweta Tamse')"
      ],
      "metadata": {
        "id": "zHL89wZOm3H2",
        "outputId": "e35e2dce-ddad-4f8d-a7d4-49f0e51df858",
        "colab": {
          "base_uri": "https://localhost:8080/"
        }
      },
      "execution_count": 2,
      "outputs": [
        {
          "output_type": "stream",
          "name": "stdout",
          "text": [
            "Shweta Tamse\n"
          ]
        }
      ]
    },
    {
      "cell_type": "code",
      "source": [
        "def fun():\n",
        "  print(\"hellow world\")\n",
        "  print(\"python\")\n",
        "\n",
        "print(\"starting point\")\n",
        "fun()\n",
        "print(\"end\")"
      ],
      "metadata": {
        "colab": {
          "base_uri": "https://localhost:8080/"
        },
        "id": "kxon0j7NXQv7",
        "outputId": "14c5d95d-c15e-4cd2-e8a4-d6152e6fb096"
      },
      "execution_count": null,
      "outputs": [
        {
          "output_type": "stream",
          "name": "stdout",
          "text": [
            "starting point\n",
            "hellow world\n",
            "python\n",
            "end\n"
          ]
        }
      ]
    },
    {
      "cell_type": "code",
      "source": [
        "def square():  # without argument and no return value\n",
        "  x = int(input(\"enter the number\"))\n",
        "  print(x*x)\n",
        "\n",
        "square()"
      ],
      "metadata": {
        "colab": {
          "base_uri": "https://localhost:8080/"
        },
        "id": "0iiKLxlOX9XQ",
        "outputId": "1077ed72-20b1-4ea2-f3d8-03ffa157c185"
      },
      "execution_count": null,
      "outputs": [
        {
          "output_type": "stream",
          "name": "stdout",
          "text": [
            "enter the number5\n",
            "25\n"
          ]
        }
      ]
    },
    {
      "cell_type": "code",
      "source": [
        "# without argument and return value\n",
        "\n",
        "def square():\n",
        "  x = int(input(\"enter the number\"))\n",
        "  return x*x\n",
        "\n",
        "\n",
        "print(square())"
      ],
      "metadata": {
        "colab": {
          "base_uri": "https://localhost:8080/"
        },
        "id": "IILVTKfQZOep",
        "outputId": "4ca0eed5-cb60-4a4e-9e25-92b9e25580c4"
      },
      "execution_count": null,
      "outputs": [
        {
          "output_type": "stream",
          "name": "stdout",
          "text": [
            "enter the number20\n",
            "400\n"
          ]
        }
      ]
    },
    {
      "cell_type": "code",
      "source": [
        "# with arguments & no return value\n",
        "def oddeven(n):\n",
        "  if n%2==0:\n",
        "    print(\"even\")\n",
        "  else:\n",
        "    print(\"odd\")\n",
        "\n",
        "oddeven(5)"
      ],
      "metadata": {
        "colab": {
          "base_uri": "https://localhost:8080/"
        },
        "id": "z4kCFLCTaYu6",
        "outputId": "d0d23518-1e21-4e98-b889-6dd4b9b5ebe5"
      },
      "execution_count": null,
      "outputs": [
        {
          "output_type": "stream",
          "name": "stdout",
          "text": [
            "odd\n"
          ]
        }
      ]
    },
    {
      "cell_type": "code",
      "source": [
        "# with arguments & with return return values\n",
        "\n",
        "def square(n):\n",
        "  x = n **2\n",
        "  return x\n",
        "\n",
        "s = square(4)\n",
        "print(s)"
      ],
      "metadata": {
        "colab": {
          "base_uri": "https://localhost:8080/"
        },
        "id": "nPxba1taa9oP",
        "outputId": "40ce1d48-bdd1-4da8-aefb-33c1e930e5ae"
      },
      "execution_count": null,
      "outputs": [
        {
          "output_type": "stream",
          "name": "stdout",
          "text": [
            "16\n"
          ]
        }
      ]
    },
    {
      "cell_type": "code",
      "source": [
        "# return multiple values\n",
        "def student():\n",
        "  roll = int(input(\"enter roll no\"))\n",
        "  name = input(\"enetr ur name\")\n",
        "  marks = int(input(\"enter marks\"))\n",
        "  return roll , name , marks\n",
        "\n",
        "res = student()\n",
        "print(res)\n",
        "print(type(res))"
      ],
      "metadata": {
        "colab": {
          "base_uri": "https://localhost:8080/"
        },
        "id": "gGkg3CMYc3Lj",
        "outputId": "26a9b8ee-1443-4d0d-fd29-7352ba7ff90f"
      },
      "execution_count": null,
      "outputs": [
        {
          "output_type": "stream",
          "name": "stdout",
          "text": [
            "enter roll no10\n",
            "enetr ur nameasdasd\n",
            "enter marks34\n",
            "(10, 'asdasd', 34)\n",
            "<class 'tuple'>\n"
          ]
        }
      ]
    },
    {
      "cell_type": "code",
      "source": [
        "# fn calling another function\n",
        "\n",
        "def accept():\n",
        "  print(\"entering accept gn\")\n",
        "  r = int(input(\"enter a no\"))\n",
        "  display(r)\n",
        "  print(\"exit accept fn\")\n",
        "\n",
        "\n",
        "def display(n):\n",
        "  print(\"entering display fn\")\n",
        "  print(\"value is\",n)\n",
        "  print(\"exit display fn\")\n",
        "\n",
        "accept()\n",
        "\n"
      ],
      "metadata": {
        "colab": {
          "base_uri": "https://localhost:8080/"
        },
        "id": "LPJ_S81YfWLK",
        "outputId": "706c93e0-7429-4863-c704-34224df5c0db"
      },
      "execution_count": null,
      "outputs": [
        {
          "output_type": "stream",
          "name": "stdout",
          "text": [
            "entering accept gn\n",
            "enter a no10\n",
            "entering display fn\n",
            "value is 10\n",
            "exit display fn\n",
            "exit accept fn\n"
          ]
        }
      ]
    },
    {
      "cell_type": "code",
      "source": [
        "#local & global variable\n",
        "n = 100\n",
        "\n",
        "def fun1():\n",
        "  print(\"start\")\n",
        "  k =20\n",
        "  print(k)\n",
        "  print(\"end\")\n",
        "\n",
        "fun1()\n",
        "print(\"n=\",n)\n",
        "print(k)\n",
        "\n"
      ],
      "metadata": {
        "colab": {
          "base_uri": "https://localhost:8080/",
          "height": 263
        },
        "id": "faS_KRPfiFfY",
        "outputId": "684fc79c-14cb-4413-aac0-5d46ca46d67f"
      },
      "execution_count": null,
      "outputs": [
        {
          "output_type": "stream",
          "name": "stdout",
          "text": [
            "start\n",
            "20\n",
            "end\n",
            "n= 100\n"
          ]
        },
        {
          "output_type": "error",
          "ename": "NameError",
          "evalue": "name 'k' is not defined",
          "traceback": [
            "\u001b[0;31m---------------------------------------------------------------------------\u001b[0m",
            "\u001b[0;31mNameError\u001b[0m                                 Traceback (most recent call last)",
            "\u001b[0;32m<ipython-input-18-e768a3a21ba9>\u001b[0m in \u001b[0;36m<cell line: 0>\u001b[0;34m()\u001b[0m\n\u001b[1;32m      9\u001b[0m \u001b[0mfun1\u001b[0m\u001b[0;34m(\u001b[0m\u001b[0;34m)\u001b[0m\u001b[0;34m\u001b[0m\u001b[0;34m\u001b[0m\u001b[0m\n\u001b[1;32m     10\u001b[0m \u001b[0mprint\u001b[0m\u001b[0;34m(\u001b[0m\u001b[0;34m\"n=\"\u001b[0m\u001b[0;34m,\u001b[0m\u001b[0mn\u001b[0m\u001b[0;34m)\u001b[0m\u001b[0;34m\u001b[0m\u001b[0;34m\u001b[0m\u001b[0m\n\u001b[0;32m---> 11\u001b[0;31m \u001b[0mprint\u001b[0m\u001b[0;34m(\u001b[0m\u001b[0mk\u001b[0m\u001b[0;34m)\u001b[0m\u001b[0;34m\u001b[0m\u001b[0;34m\u001b[0m\u001b[0m\n\u001b[0m\u001b[1;32m     12\u001b[0m \u001b[0;34m\u001b[0m\u001b[0m\n",
            "\u001b[0;31mNameError\u001b[0m: name 'k' is not defined"
          ]
        }
      ]
    },
    {
      "cell_type": "code",
      "source": [
        "#local & global variable -- golbal key word\n",
        "n = 100\n",
        "\n",
        "def fun1():\n",
        "  print(\"start\")\n",
        "  global n\n",
        "  n =20\n",
        "  print(n)\n",
        "  print(\"end\")\n",
        "\n",
        "fun1()\n",
        "print(\"n=\",n)\n"
      ],
      "metadata": {
        "colab": {
          "base_uri": "https://localhost:8080/"
        },
        "id": "B3AUefnyi0HQ",
        "outputId": "7b0a65ce-1c9a-4afd-d490-9dadb330232d"
      },
      "execution_count": null,
      "outputs": [
        {
          "output_type": "stream",
          "name": "stdout",
          "text": [
            "start\n",
            "20\n",
            "end\n",
            "n= 20\n"
          ]
        }
      ]
    },
    {
      "cell_type": "code",
      "source": [
        "# keyword arguments\n",
        "\n",
        "def add(a,b):\n",
        "  print(\"a=\",a)\n",
        "  print(\"b=\",b)\n",
        "  print(a+b)\n",
        "\n",
        "add(b=3,a=2)"
      ],
      "metadata": {
        "colab": {
          "base_uri": "https://localhost:8080/",
          "height": 176
        },
        "id": "96PzXj70mJoe",
        "outputId": "782216dc-5819-4cb9-b4c0-41afa2b00e02"
      },
      "execution_count": null,
      "outputs": [
        {
          "output_type": "error",
          "ename": "TypeError",
          "evalue": "add() missing 1 required positional argument: 'a'",
          "traceback": [
            "\u001b[0;31m---------------------------------------------------------------------------\u001b[0m",
            "\u001b[0;31mTypeError\u001b[0m                                 Traceback (most recent call last)",
            "\u001b[0;32m<ipython-input-24-e4957dda1764>\u001b[0m in \u001b[0;36m<cell line: 0>\u001b[0;34m()\u001b[0m\n\u001b[1;32m      6\u001b[0m   \u001b[0mprint\u001b[0m\u001b[0;34m(\u001b[0m\u001b[0ma\u001b[0m\u001b[0;34m+\u001b[0m\u001b[0mb\u001b[0m\u001b[0;34m)\u001b[0m\u001b[0;34m\u001b[0m\u001b[0;34m\u001b[0m\u001b[0m\n\u001b[1;32m      7\u001b[0m \u001b[0;34m\u001b[0m\u001b[0m\n\u001b[0;32m----> 8\u001b[0;31m \u001b[0madd\u001b[0m\u001b[0;34m(\u001b[0m\u001b[0mb\u001b[0m\u001b[0;34m=\u001b[0m\u001b[0;36m3\u001b[0m\u001b[0;34m)\u001b[0m\u001b[0;34m\u001b[0m\u001b[0;34m\u001b[0m\u001b[0m\n\u001b[0m",
            "\u001b[0;31mTypeError\u001b[0m: add() missing 1 required positional argument: 'a'"
          ]
        }
      ]
    },
    {
      "cell_type": "code",
      "source": [
        "# default arguments\n",
        "\n",
        "def add(a=10,b=2):\n",
        "  print(\"a=\",a)\n",
        "  print(\"b=\",b)\n",
        "  print(a+b)\n",
        "\n",
        "add()"
      ],
      "metadata": {
        "colab": {
          "base_uri": "https://localhost:8080/"
        },
        "id": "vM5jeMrpm5ei",
        "outputId": "6e847683-7f5b-4029-edf7-3c9e5de55bd6"
      },
      "execution_count": null,
      "outputs": [
        {
          "output_type": "stream",
          "name": "stdout",
          "text": [
            "a= 10\n",
            "b= 2\n",
            "12\n"
          ]
        }
      ]
    },
    {
      "cell_type": "code",
      "source": [
        "def add(b,a=10):\n",
        "  print(\"a=\",a)\n",
        "  print(\"b=\",b)\n",
        "  print(a+b)\n",
        "\n",
        "add(100)"
      ],
      "metadata": {
        "colab": {
          "base_uri": "https://localhost:8080/"
        },
        "id": "lp2QDItIoai4",
        "outputId": "57dc85a9-e504-45e3-d797-9ff21cda2ceb"
      },
      "execution_count": null,
      "outputs": [
        {
          "output_type": "stream",
          "name": "stdout",
          "text": [
            "a= 10\n",
            "b= 100\n",
            "110\n"
          ]
        }
      ]
    },
    {
      "cell_type": "code",
      "source": [
        "def fun(*a):\n",
        "  print(a)\n",
        "\n",
        "fun(1,2,3,4)"
      ],
      "metadata": {
        "colab": {
          "base_uri": "https://localhost:8080/"
        },
        "id": "gH_4a4Fin1ha",
        "outputId": "ba1fa337-5597-4627-c5cc-6661423a072b"
      },
      "execution_count": null,
      "outputs": [
        {
          "output_type": "stream",
          "name": "stdout",
          "text": [
            "(1, 2, 3, 4)\n"
          ]
        }
      ]
    },
    {
      "cell_type": "code",
      "source": [
        "def fun(*a):\n",
        "  for i in a:\n",
        "    print(i)\n",
        "\n",
        "fun(10,20,30,40,50,60,70)"
      ],
      "metadata": {
        "colab": {
          "base_uri": "https://localhost:8080/"
        },
        "id": "EOINNxm2oEdK",
        "outputId": "ca8f1ce0-94e9-447e-e611-c18151387a82"
      },
      "execution_count": null,
      "outputs": [
        {
          "output_type": "stream",
          "name": "stdout",
          "text": [
            "10\n",
            "20\n",
            "30\n",
            "40\n",
            "50\n",
            "60\n",
            "70\n"
          ]
        }
      ]
    }
  ]
}